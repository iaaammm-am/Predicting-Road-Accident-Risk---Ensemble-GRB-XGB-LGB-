{
 "cells": [
  {
   "cell_type": "code",
   "execution_count": 122,
   "id": "cb9858fe-d7c5-45b6-b4d5-caf146dbba67",
   "metadata": {},
   "outputs": [],
   "source": [
    "import pandas as pd\n",
    "import numpy as np\n",
    "import seaborn as sns\n",
    "from sklearn.model_selection import KFold\n",
    "from sklearn.metrics import mean_squared_error, r2_score"
   ]
  },
  {
   "cell_type": "code",
   "execution_count": 124,
   "id": "25528c4b-7cd4-4ac0-8f12-c1b996d356a1",
   "metadata": {},
   "outputs": [
    {
     "data": {
      "text/html": [
       "<div>\n",
       "<style scoped>\n",
       "    .dataframe tbody tr th:only-of-type {\n",
       "        vertical-align: middle;\n",
       "    }\n",
       "\n",
       "    .dataframe tbody tr th {\n",
       "        vertical-align: top;\n",
       "    }\n",
       "\n",
       "    .dataframe thead th {\n",
       "        text-align: right;\n",
       "    }\n",
       "</style>\n",
       "<table border=\"1\" class=\"dataframe\">\n",
       "  <thead>\n",
       "    <tr style=\"text-align: right;\">\n",
       "      <th></th>\n",
       "      <th>id</th>\n",
       "      <th>road_type</th>\n",
       "      <th>num_lanes</th>\n",
       "      <th>curvature</th>\n",
       "      <th>speed_limit</th>\n",
       "      <th>lighting</th>\n",
       "      <th>weather</th>\n",
       "      <th>road_signs_present</th>\n",
       "      <th>public_road</th>\n",
       "      <th>time_of_day</th>\n",
       "      <th>holiday</th>\n",
       "      <th>school_season</th>\n",
       "      <th>num_reported_accidents</th>\n",
       "      <th>accident_risk</th>\n",
       "    </tr>\n",
       "  </thead>\n",
       "  <tbody>\n",
       "    <tr>\n",
       "      <th>0</th>\n",
       "      <td>0</td>\n",
       "      <td>urban</td>\n",
       "      <td>2</td>\n",
       "      <td>0.06</td>\n",
       "      <td>35</td>\n",
       "      <td>daylight</td>\n",
       "      <td>rainy</td>\n",
       "      <td>False</td>\n",
       "      <td>True</td>\n",
       "      <td>afternoon</td>\n",
       "      <td>False</td>\n",
       "      <td>True</td>\n",
       "      <td>1</td>\n",
       "      <td>0.13</td>\n",
       "    </tr>\n",
       "    <tr>\n",
       "      <th>1</th>\n",
       "      <td>1</td>\n",
       "      <td>urban</td>\n",
       "      <td>4</td>\n",
       "      <td>0.99</td>\n",
       "      <td>35</td>\n",
       "      <td>daylight</td>\n",
       "      <td>clear</td>\n",
       "      <td>True</td>\n",
       "      <td>False</td>\n",
       "      <td>evening</td>\n",
       "      <td>True</td>\n",
       "      <td>True</td>\n",
       "      <td>0</td>\n",
       "      <td>0.35</td>\n",
       "    </tr>\n",
       "    <tr>\n",
       "      <th>2</th>\n",
       "      <td>2</td>\n",
       "      <td>rural</td>\n",
       "      <td>4</td>\n",
       "      <td>0.63</td>\n",
       "      <td>70</td>\n",
       "      <td>dim</td>\n",
       "      <td>clear</td>\n",
       "      <td>False</td>\n",
       "      <td>True</td>\n",
       "      <td>morning</td>\n",
       "      <td>True</td>\n",
       "      <td>False</td>\n",
       "      <td>2</td>\n",
       "      <td>0.30</td>\n",
       "    </tr>\n",
       "    <tr>\n",
       "      <th>3</th>\n",
       "      <td>3</td>\n",
       "      <td>highway</td>\n",
       "      <td>4</td>\n",
       "      <td>0.07</td>\n",
       "      <td>35</td>\n",
       "      <td>dim</td>\n",
       "      <td>rainy</td>\n",
       "      <td>True</td>\n",
       "      <td>True</td>\n",
       "      <td>morning</td>\n",
       "      <td>False</td>\n",
       "      <td>False</td>\n",
       "      <td>1</td>\n",
       "      <td>0.21</td>\n",
       "    </tr>\n",
       "    <tr>\n",
       "      <th>4</th>\n",
       "      <td>4</td>\n",
       "      <td>rural</td>\n",
       "      <td>1</td>\n",
       "      <td>0.58</td>\n",
       "      <td>60</td>\n",
       "      <td>daylight</td>\n",
       "      <td>foggy</td>\n",
       "      <td>False</td>\n",
       "      <td>False</td>\n",
       "      <td>evening</td>\n",
       "      <td>True</td>\n",
       "      <td>False</td>\n",
       "      <td>1</td>\n",
       "      <td>0.56</td>\n",
       "    </tr>\n",
       "    <tr>\n",
       "      <th>...</th>\n",
       "      <td>...</td>\n",
       "      <td>...</td>\n",
       "      <td>...</td>\n",
       "      <td>...</td>\n",
       "      <td>...</td>\n",
       "      <td>...</td>\n",
       "      <td>...</td>\n",
       "      <td>...</td>\n",
       "      <td>...</td>\n",
       "      <td>...</td>\n",
       "      <td>...</td>\n",
       "      <td>...</td>\n",
       "      <td>...</td>\n",
       "      <td>...</td>\n",
       "    </tr>\n",
       "    <tr>\n",
       "      <th>517749</th>\n",
       "      <td>517749</td>\n",
       "      <td>highway</td>\n",
       "      <td>4</td>\n",
       "      <td>0.10</td>\n",
       "      <td>70</td>\n",
       "      <td>daylight</td>\n",
       "      <td>foggy</td>\n",
       "      <td>True</td>\n",
       "      <td>True</td>\n",
       "      <td>afternoon</td>\n",
       "      <td>False</td>\n",
       "      <td>False</td>\n",
       "      <td>2</td>\n",
       "      <td>0.32</td>\n",
       "    </tr>\n",
       "    <tr>\n",
       "      <th>517750</th>\n",
       "      <td>517750</td>\n",
       "      <td>rural</td>\n",
       "      <td>4</td>\n",
       "      <td>0.47</td>\n",
       "      <td>35</td>\n",
       "      <td>daylight</td>\n",
       "      <td>rainy</td>\n",
       "      <td>True</td>\n",
       "      <td>True</td>\n",
       "      <td>morning</td>\n",
       "      <td>False</td>\n",
       "      <td>False</td>\n",
       "      <td>1</td>\n",
       "      <td>0.26</td>\n",
       "    </tr>\n",
       "    <tr>\n",
       "      <th>517751</th>\n",
       "      <td>517751</td>\n",
       "      <td>urban</td>\n",
       "      <td>4</td>\n",
       "      <td>0.62</td>\n",
       "      <td>25</td>\n",
       "      <td>daylight</td>\n",
       "      <td>foggy</td>\n",
       "      <td>False</td>\n",
       "      <td>False</td>\n",
       "      <td>afternoon</td>\n",
       "      <td>False</td>\n",
       "      <td>True</td>\n",
       "      <td>0</td>\n",
       "      <td>0.19</td>\n",
       "    </tr>\n",
       "    <tr>\n",
       "      <th>517752</th>\n",
       "      <td>517752</td>\n",
       "      <td>highway</td>\n",
       "      <td>3</td>\n",
       "      <td>0.63</td>\n",
       "      <td>25</td>\n",
       "      <td>night</td>\n",
       "      <td>clear</td>\n",
       "      <td>True</td>\n",
       "      <td>False</td>\n",
       "      <td>afternoon</td>\n",
       "      <td>True</td>\n",
       "      <td>True</td>\n",
       "      <td>3</td>\n",
       "      <td>0.51</td>\n",
       "    </tr>\n",
       "    <tr>\n",
       "      <th>517753</th>\n",
       "      <td>517753</td>\n",
       "      <td>highway</td>\n",
       "      <td>2</td>\n",
       "      <td>0.31</td>\n",
       "      <td>45</td>\n",
       "      <td>dim</td>\n",
       "      <td>rainy</td>\n",
       "      <td>False</td>\n",
       "      <td>True</td>\n",
       "      <td>afternoon</td>\n",
       "      <td>True</td>\n",
       "      <td>True</td>\n",
       "      <td>2</td>\n",
       "      <td>0.22</td>\n",
       "    </tr>\n",
       "  </tbody>\n",
       "</table>\n",
       "<p>517754 rows × 14 columns</p>\n",
       "</div>"
      ],
      "text/plain": [
       "            id road_type  num_lanes  curvature  speed_limit  lighting weather  \\\n",
       "0            0     urban          2       0.06           35  daylight   rainy   \n",
       "1            1     urban          4       0.99           35  daylight   clear   \n",
       "2            2     rural          4       0.63           70       dim   clear   \n",
       "3            3   highway          4       0.07           35       dim   rainy   \n",
       "4            4     rural          1       0.58           60  daylight   foggy   \n",
       "...        ...       ...        ...        ...          ...       ...     ...   \n",
       "517749  517749   highway          4       0.10           70  daylight   foggy   \n",
       "517750  517750     rural          4       0.47           35  daylight   rainy   \n",
       "517751  517751     urban          4       0.62           25  daylight   foggy   \n",
       "517752  517752   highway          3       0.63           25     night   clear   \n",
       "517753  517753   highway          2       0.31           45       dim   rainy   \n",
       "\n",
       "        road_signs_present  public_road time_of_day  holiday  school_season  \\\n",
       "0                    False         True   afternoon    False           True   \n",
       "1                     True        False     evening     True           True   \n",
       "2                    False         True     morning     True          False   \n",
       "3                     True         True     morning    False          False   \n",
       "4                    False        False     evening     True          False   \n",
       "...                    ...          ...         ...      ...            ...   \n",
       "517749                True         True   afternoon    False          False   \n",
       "517750                True         True     morning    False          False   \n",
       "517751               False        False   afternoon    False           True   \n",
       "517752                True        False   afternoon     True           True   \n",
       "517753               False         True   afternoon     True           True   \n",
       "\n",
       "        num_reported_accidents  accident_risk  \n",
       "0                            1           0.13  \n",
       "1                            0           0.35  \n",
       "2                            2           0.30  \n",
       "3                            1           0.21  \n",
       "4                            1           0.56  \n",
       "...                        ...            ...  \n",
       "517749                       2           0.32  \n",
       "517750                       1           0.26  \n",
       "517751                       0           0.19  \n",
       "517752                       3           0.51  \n",
       "517753                       2           0.22  \n",
       "\n",
       "[517754 rows x 14 columns]"
      ]
     },
     "execution_count": 124,
     "metadata": {},
     "output_type": "execute_result"
    }
   ],
   "source": [
    "train = pd.read_csv(\"/Users/am/Downloads/Practice/playground/train.csv\")\n",
    "train"
   ]
  },
  {
   "cell_type": "code",
   "execution_count": 125,
   "id": "8324831f-0ef5-4230-9b44-8ca06e83353d",
   "metadata": {},
   "outputs": [
    {
     "data": {
      "text/html": [
       "<div>\n",
       "<style scoped>\n",
       "    .dataframe tbody tr th:only-of-type {\n",
       "        vertical-align: middle;\n",
       "    }\n",
       "\n",
       "    .dataframe tbody tr th {\n",
       "        vertical-align: top;\n",
       "    }\n",
       "\n",
       "    .dataframe thead th {\n",
       "        text-align: right;\n",
       "    }\n",
       "</style>\n",
       "<table border=\"1\" class=\"dataframe\">\n",
       "  <thead>\n",
       "    <tr style=\"text-align: right;\">\n",
       "      <th></th>\n",
       "      <th>id</th>\n",
       "      <th>road_type</th>\n",
       "      <th>num_lanes</th>\n",
       "      <th>curvature</th>\n",
       "      <th>speed_limit</th>\n",
       "      <th>lighting</th>\n",
       "      <th>weather</th>\n",
       "      <th>road_signs_present</th>\n",
       "      <th>public_road</th>\n",
       "      <th>time_of_day</th>\n",
       "      <th>holiday</th>\n",
       "      <th>school_season</th>\n",
       "      <th>num_reported_accidents</th>\n",
       "    </tr>\n",
       "  </thead>\n",
       "  <tbody>\n",
       "    <tr>\n",
       "      <th>0</th>\n",
       "      <td>517754</td>\n",
       "      <td>highway</td>\n",
       "      <td>2</td>\n",
       "      <td>0.34</td>\n",
       "      <td>45</td>\n",
       "      <td>night</td>\n",
       "      <td>clear</td>\n",
       "      <td>True</td>\n",
       "      <td>True</td>\n",
       "      <td>afternoon</td>\n",
       "      <td>True</td>\n",
       "      <td>True</td>\n",
       "      <td>1</td>\n",
       "    </tr>\n",
       "    <tr>\n",
       "      <th>1</th>\n",
       "      <td>517755</td>\n",
       "      <td>urban</td>\n",
       "      <td>3</td>\n",
       "      <td>0.04</td>\n",
       "      <td>45</td>\n",
       "      <td>dim</td>\n",
       "      <td>foggy</td>\n",
       "      <td>True</td>\n",
       "      <td>False</td>\n",
       "      <td>afternoon</td>\n",
       "      <td>True</td>\n",
       "      <td>False</td>\n",
       "      <td>0</td>\n",
       "    </tr>\n",
       "    <tr>\n",
       "      <th>2</th>\n",
       "      <td>517756</td>\n",
       "      <td>urban</td>\n",
       "      <td>2</td>\n",
       "      <td>0.59</td>\n",
       "      <td>35</td>\n",
       "      <td>dim</td>\n",
       "      <td>clear</td>\n",
       "      <td>True</td>\n",
       "      <td>False</td>\n",
       "      <td>afternoon</td>\n",
       "      <td>True</td>\n",
       "      <td>True</td>\n",
       "      <td>1</td>\n",
       "    </tr>\n",
       "    <tr>\n",
       "      <th>3</th>\n",
       "      <td>517757</td>\n",
       "      <td>rural</td>\n",
       "      <td>4</td>\n",
       "      <td>0.95</td>\n",
       "      <td>35</td>\n",
       "      <td>daylight</td>\n",
       "      <td>rainy</td>\n",
       "      <td>False</td>\n",
       "      <td>False</td>\n",
       "      <td>afternoon</td>\n",
       "      <td>False</td>\n",
       "      <td>False</td>\n",
       "      <td>2</td>\n",
       "    </tr>\n",
       "    <tr>\n",
       "      <th>4</th>\n",
       "      <td>517758</td>\n",
       "      <td>highway</td>\n",
       "      <td>2</td>\n",
       "      <td>0.86</td>\n",
       "      <td>35</td>\n",
       "      <td>daylight</td>\n",
       "      <td>clear</td>\n",
       "      <td>True</td>\n",
       "      <td>False</td>\n",
       "      <td>evening</td>\n",
       "      <td>False</td>\n",
       "      <td>True</td>\n",
       "      <td>3</td>\n",
       "    </tr>\n",
       "    <tr>\n",
       "      <th>...</th>\n",
       "      <td>...</td>\n",
       "      <td>...</td>\n",
       "      <td>...</td>\n",
       "      <td>...</td>\n",
       "      <td>...</td>\n",
       "      <td>...</td>\n",
       "      <td>...</td>\n",
       "      <td>...</td>\n",
       "      <td>...</td>\n",
       "      <td>...</td>\n",
       "      <td>...</td>\n",
       "      <td>...</td>\n",
       "      <td>...</td>\n",
       "    </tr>\n",
       "    <tr>\n",
       "      <th>172580</th>\n",
       "      <td>690334</td>\n",
       "      <td>rural</td>\n",
       "      <td>2</td>\n",
       "      <td>0.01</td>\n",
       "      <td>45</td>\n",
       "      <td>dim</td>\n",
       "      <td>rainy</td>\n",
       "      <td>False</td>\n",
       "      <td>False</td>\n",
       "      <td>afternoon</td>\n",
       "      <td>True</td>\n",
       "      <td>True</td>\n",
       "      <td>2</td>\n",
       "    </tr>\n",
       "    <tr>\n",
       "      <th>172581</th>\n",
       "      <td>690335</td>\n",
       "      <td>rural</td>\n",
       "      <td>1</td>\n",
       "      <td>0.74</td>\n",
       "      <td>70</td>\n",
       "      <td>daylight</td>\n",
       "      <td>foggy</td>\n",
       "      <td>False</td>\n",
       "      <td>True</td>\n",
       "      <td>afternoon</td>\n",
       "      <td>False</td>\n",
       "      <td>False</td>\n",
       "      <td>2</td>\n",
       "    </tr>\n",
       "    <tr>\n",
       "      <th>172582</th>\n",
       "      <td>690336</td>\n",
       "      <td>urban</td>\n",
       "      <td>2</td>\n",
       "      <td>0.14</td>\n",
       "      <td>70</td>\n",
       "      <td>dim</td>\n",
       "      <td>clear</td>\n",
       "      <td>False</td>\n",
       "      <td>False</td>\n",
       "      <td>evening</td>\n",
       "      <td>True</td>\n",
       "      <td>True</td>\n",
       "      <td>1</td>\n",
       "    </tr>\n",
       "    <tr>\n",
       "      <th>172583</th>\n",
       "      <td>690337</td>\n",
       "      <td>urban</td>\n",
       "      <td>1</td>\n",
       "      <td>0.09</td>\n",
       "      <td>45</td>\n",
       "      <td>daylight</td>\n",
       "      <td>foggy</td>\n",
       "      <td>True</td>\n",
       "      <td>True</td>\n",
       "      <td>morning</td>\n",
       "      <td>False</td>\n",
       "      <td>True</td>\n",
       "      <td>0</td>\n",
       "    </tr>\n",
       "    <tr>\n",
       "      <th>172584</th>\n",
       "      <td>690338</td>\n",
       "      <td>highway</td>\n",
       "      <td>1</td>\n",
       "      <td>0.63</td>\n",
       "      <td>35</td>\n",
       "      <td>night</td>\n",
       "      <td>foggy</td>\n",
       "      <td>True</td>\n",
       "      <td>False</td>\n",
       "      <td>evening</td>\n",
       "      <td>False</td>\n",
       "      <td>False</td>\n",
       "      <td>0</td>\n",
       "    </tr>\n",
       "  </tbody>\n",
       "</table>\n",
       "<p>172585 rows × 13 columns</p>\n",
       "</div>"
      ],
      "text/plain": [
       "            id road_type  num_lanes  curvature  speed_limit  lighting weather  \\\n",
       "0       517754   highway          2       0.34           45     night   clear   \n",
       "1       517755     urban          3       0.04           45       dim   foggy   \n",
       "2       517756     urban          2       0.59           35       dim   clear   \n",
       "3       517757     rural          4       0.95           35  daylight   rainy   \n",
       "4       517758   highway          2       0.86           35  daylight   clear   \n",
       "...        ...       ...        ...        ...          ...       ...     ...   \n",
       "172580  690334     rural          2       0.01           45       dim   rainy   \n",
       "172581  690335     rural          1       0.74           70  daylight   foggy   \n",
       "172582  690336     urban          2       0.14           70       dim   clear   \n",
       "172583  690337     urban          1       0.09           45  daylight   foggy   \n",
       "172584  690338   highway          1       0.63           35     night   foggy   \n",
       "\n",
       "        road_signs_present  public_road time_of_day  holiday  school_season  \\\n",
       "0                     True         True   afternoon     True           True   \n",
       "1                     True        False   afternoon     True          False   \n",
       "2                     True        False   afternoon     True           True   \n",
       "3                    False        False   afternoon    False          False   \n",
       "4                     True        False     evening    False           True   \n",
       "...                    ...          ...         ...      ...            ...   \n",
       "172580               False        False   afternoon     True           True   \n",
       "172581               False         True   afternoon    False          False   \n",
       "172582               False        False     evening     True           True   \n",
       "172583                True         True     morning    False           True   \n",
       "172584                True        False     evening    False          False   \n",
       "\n",
       "        num_reported_accidents  \n",
       "0                            1  \n",
       "1                            0  \n",
       "2                            1  \n",
       "3                            2  \n",
       "4                            3  \n",
       "...                        ...  \n",
       "172580                       2  \n",
       "172581                       2  \n",
       "172582                       1  \n",
       "172583                       0  \n",
       "172584                       0  \n",
       "\n",
       "[172585 rows x 13 columns]"
      ]
     },
     "execution_count": 125,
     "metadata": {},
     "output_type": "execute_result"
    }
   ],
   "source": [
    "X_test = pd.read_csv(\"/Users/am/Downloads/Practice/playground/test.csv\")\n",
    "X_test"
   ]
  },
  {
   "cell_type": "code",
   "execution_count": 126,
   "id": "96e802c4-6cba-42d4-8855-23a077678224",
   "metadata": {},
   "outputs": [],
   "source": [
    "Y_train = train['accident_risk']\n",
    "X_train = train.drop('accident_risk', axis = 1)"
   ]
  },
  {
   "cell_type": "code",
   "execution_count": 127,
   "id": "d0d7585d-63d6-406d-aad1-583bf951a474",
   "metadata": {},
   "outputs": [
    {
     "name": "stdout",
     "output_type": "stream",
     "text": [
      "Training shape: (517754, 13)\n",
      "Test shape: (172585, 13)\n"
     ]
    }
   ],
   "source": [
    "print(\"Training shape:\", X_train.shape)\n",
    "print(\"Test shape:\", X_test.shape)"
   ]
  },
  {
   "cell_type": "code",
   "execution_count": 129,
   "id": "d212c6da-a694-40b1-a040-10be22bb9d92",
   "metadata": {},
   "outputs": [],
   "source": [
    "from sklearn.model_selection import train_test_split\n",
    "\n",
    "X_train_split, X_train_val, Y_train_split, Y_train_val = train_test_split(X_train, Y_train, test_size=0.2, random_state=42 )"
   ]
  },
  {
   "cell_type": "code",
   "execution_count": 130,
   "id": "cc337520-77e3-4d74-b95e-94d56b5ea6b3",
   "metadata": {},
   "outputs": [],
   "source": [
    "# co_mtx = X_train_split.corr(numeric_only=True)\n",
    "# sns.heatmap(co_mtx)"
   ]
  },
  {
   "cell_type": "code",
   "execution_count": 136,
   "id": "ac9c6d9e-36a3-4132-9955-105fe9f70de9",
   "metadata": {},
   "outputs": [],
   "source": [
    "categorical_features = ['road_type', 'lighting','weather','road_signs_present', \n",
    "                        'public_road','time_of_day', 'holiday','school_season']\n",
    "\n",
    "numeric_features = ['num_lanes', 'curvature', 'speed_limit', 'num_reported_accidents']\n",
    "\n",
    "X_train_split_cat = X_train_split[categorical_features]\n",
    "X_train_split_num = X_train_split[numeric_features]\n",
    "\n",
    "X_train_val_cat = X_train_val[categorical_features]\n",
    "X_train_val_num = X_train_val[numeric_features]\n",
    "\n",
    "X_test_cat = X_test[categorical_features]\n",
    "X_test_num = X_test[numeric_features]\n",
    "\n"
   ]
  },
  {
   "cell_type": "code",
   "execution_count": 137,
   "id": "8b41009b-302b-4599-a48e-e620139e7998",
   "metadata": {},
   "outputs": [],
   "source": [
    "from sklearn.preprocessing import OneHotEncoder\n",
    "\n",
    "encoder = OneHotEncoder(handle_unknown='ignore', sparse_output=False)  # sparse=False to get a DataFrame/array\n",
    "encoder.fit(X_train_split_cat)\n",
    "\n",
    "X_train_split_cat_encoded = encoder.transform(X_train_split_cat)\n",
    "X_train_val_cat_encoded = encoder.transform(X_train_val_cat)\n",
    "X_test_encoded = encoder.transform(X_test_cat)"
   ]
  },
  {
   "cell_type": "code",
   "execution_count": 139,
   "id": "3fa6b3d5-6599-4090-baed-fa281094096d",
   "metadata": {},
   "outputs": [],
   "source": [
    "# Combine numeric + encoded categorical\n",
    "X_train_split_final = np.hstack([X_train_split_num.values, X_train_split_cat_encoded])\n",
    "X_train_val_final = np.hstack([X_train_val_num.values, X_train_val_cat_encoded])\n",
    "X_test_final = np.hstack([X_test_num.values, X_test_encoded])"
   ]
  },
  {
   "cell_type": "code",
   "execution_count": 140,
   "id": "43c85016-8e7e-4161-8f8e-d16e33fe9dbf",
   "metadata": {},
   "outputs": [],
   "source": [
    "########## Random Forest Regression ########## "
   ]
  },
  {
   "cell_type": "code",
   "execution_count": 141,
   "id": "b6412089-3326-4ce1-b418-49ff69757df9",
   "metadata": {},
   "outputs": [
    {
     "data": {
      "text/html": [
       "<style>#sk-container-id-6 {color: black;}#sk-container-id-6 pre{padding: 0;}#sk-container-id-6 div.sk-toggleable {background-color: white;}#sk-container-id-6 label.sk-toggleable__label {cursor: pointer;display: block;width: 100%;margin-bottom: 0;padding: 0.3em;box-sizing: border-box;text-align: center;}#sk-container-id-6 label.sk-toggleable__label-arrow:before {content: \"▸\";float: left;margin-right: 0.25em;color: #696969;}#sk-container-id-6 label.sk-toggleable__label-arrow:hover:before {color: black;}#sk-container-id-6 div.sk-estimator:hover label.sk-toggleable__label-arrow:before {color: black;}#sk-container-id-6 div.sk-toggleable__content {max-height: 0;max-width: 0;overflow: hidden;text-align: left;background-color: #f0f8ff;}#sk-container-id-6 div.sk-toggleable__content pre {margin: 0.2em;color: black;border-radius: 0.25em;background-color: #f0f8ff;}#sk-container-id-6 input.sk-toggleable__control:checked~div.sk-toggleable__content {max-height: 200px;max-width: 100%;overflow: auto;}#sk-container-id-6 input.sk-toggleable__control:checked~label.sk-toggleable__label-arrow:before {content: \"▾\";}#sk-container-id-6 div.sk-estimator input.sk-toggleable__control:checked~label.sk-toggleable__label {background-color: #d4ebff;}#sk-container-id-6 div.sk-label input.sk-toggleable__control:checked~label.sk-toggleable__label {background-color: #d4ebff;}#sk-container-id-6 input.sk-hidden--visually {border: 0;clip: rect(1px 1px 1px 1px);clip: rect(1px, 1px, 1px, 1px);height: 1px;margin: -1px;overflow: hidden;padding: 0;position: absolute;width: 1px;}#sk-container-id-6 div.sk-estimator {font-family: monospace;background-color: #f0f8ff;border: 1px dotted black;border-radius: 0.25em;box-sizing: border-box;margin-bottom: 0.5em;}#sk-container-id-6 div.sk-estimator:hover {background-color: #d4ebff;}#sk-container-id-6 div.sk-parallel-item::after {content: \"\";width: 100%;border-bottom: 1px solid gray;flex-grow: 1;}#sk-container-id-6 div.sk-label:hover label.sk-toggleable__label {background-color: #d4ebff;}#sk-container-id-6 div.sk-serial::before {content: \"\";position: absolute;border-left: 1px solid gray;box-sizing: border-box;top: 0;bottom: 0;left: 50%;z-index: 0;}#sk-container-id-6 div.sk-serial {display: flex;flex-direction: column;align-items: center;background-color: white;padding-right: 0.2em;padding-left: 0.2em;position: relative;}#sk-container-id-6 div.sk-item {position: relative;z-index: 1;}#sk-container-id-6 div.sk-parallel {display: flex;align-items: stretch;justify-content: center;background-color: white;position: relative;}#sk-container-id-6 div.sk-item::before, #sk-container-id-6 div.sk-parallel-item::before {content: \"\";position: absolute;border-left: 1px solid gray;box-sizing: border-box;top: 0;bottom: 0;left: 50%;z-index: -1;}#sk-container-id-6 div.sk-parallel-item {display: flex;flex-direction: column;z-index: 1;position: relative;background-color: white;}#sk-container-id-6 div.sk-parallel-item:first-child::after {align-self: flex-end;width: 50%;}#sk-container-id-6 div.sk-parallel-item:last-child::after {align-self: flex-start;width: 50%;}#sk-container-id-6 div.sk-parallel-item:only-child::after {width: 0;}#sk-container-id-6 div.sk-dashed-wrapped {border: 1px dashed gray;margin: 0 0.4em 0.5em 0.4em;box-sizing: border-box;padding-bottom: 0.4em;background-color: white;}#sk-container-id-6 div.sk-label label {font-family: monospace;font-weight: bold;display: inline-block;line-height: 1.2em;}#sk-container-id-6 div.sk-label-container {text-align: center;}#sk-container-id-6 div.sk-container {/* jupyter's `normalize.less` sets `[hidden] { display: none; }` but bootstrap.min.css set `[hidden] { display: none !important; }` so we also need the `!important` here to be able to override the default hidden behavior on the sphinx rendered scikit-learn.org. See: https://github.com/scikit-learn/scikit-learn/issues/21755 */display: inline-block !important;position: relative;}#sk-container-id-6 div.sk-text-repr-fallback {display: none;}</style><div id=\"sk-container-id-6\" class=\"sk-top-container\"><div class=\"sk-text-repr-fallback\"><pre>RandomForestRegressor(max_depth=10, n_jobs=-1, random_state=42)</pre><b>In a Jupyter environment, please rerun this cell to show the HTML representation or trust the notebook. <br />On GitHub, the HTML representation is unable to render, please try loading this page with nbviewer.org.</b></div><div class=\"sk-container\" hidden><div class=\"sk-item\"><div class=\"sk-estimator sk-toggleable\"><input class=\"sk-toggleable__control sk-hidden--visually\" id=\"sk-estimator-id-6\" type=\"checkbox\" checked><label for=\"sk-estimator-id-6\" class=\"sk-toggleable__label sk-toggleable__label-arrow\">RandomForestRegressor</label><div class=\"sk-toggleable__content\"><pre>RandomForestRegressor(max_depth=10, n_jobs=-1, random_state=42)</pre></div></div></div></div></div>"
      ],
      "text/plain": [
       "RandomForestRegressor(max_depth=10, n_jobs=-1, random_state=42)"
      ]
     },
     "execution_count": 141,
     "metadata": {},
     "output_type": "execute_result"
    }
   ],
   "source": [
    "from sklearn.ensemble import RandomForestRegressor\n",
    "from sklearn.metrics import mean_squared_error, r2_score\n",
    "\n",
    "rf = RandomForestRegressor(n_estimators=100, max_depth=10, random_state=42, n_jobs=-1)\n",
    "\n",
    "rf.fit(X_train_split_final, Y_train_split)\n"
   ]
  },
  {
   "cell_type": "code",
   "execution_count": 145,
   "id": "b0b699c1-092b-4b15-b3b9-75c4d513fa8a",
   "metadata": {},
   "outputs": [
    {
     "data": {
      "text/plain": [
       "array([0.12911824, 0.33139707, 0.25105742, ..., 0.40850726, 0.1406238 ,\n",
       "       0.1556587 ])"
      ]
     },
     "execution_count": 145,
     "metadata": {},
     "output_type": "execute_result"
    }
   ],
   "source": [
    "#Predict\n",
    "y_pred_train_val_rf = rf.predict(X_train_val_final)\n",
    "y_pred_train_val_rf"
   ]
  },
  {
   "cell_type": "code",
   "execution_count": 146,
   "id": "202a9d5a-bf0e-46c2-9493-efed893ec22e",
   "metadata": {},
   "outputs": [
    {
     "name": "stdout",
     "output_type": "stream",
     "text": [
      "Root Mean Squared Error: 0.056309668722782966\n",
      "R² Score: 0.8851674459011593\n"
     ]
    }
   ],
   "source": [
    "# rmse = np.sqrt(mean_squared_error(Y_train_val, y_pred_train_val_rf))\n",
    "# r2 = r2_score(Y_train_val, y_pred_train_val_rf)\n",
    "\n",
    "# print(\"Root Mean Squared Error:\", rmse)\n",
    "# print(\"R² Score:\", r2)"
   ]
  },
  {
   "cell_type": "code",
   "execution_count": 29,
   "id": "636602a5-6e4d-4199-a8ef-cde28d8a738f",
   "metadata": {},
   "outputs": [],
   "source": [
    "########## hyperparameter tuning ##########"
   ]
  },
  {
   "cell_type": "code",
   "execution_count": 31,
   "id": "4156aa80-cb43-4d4a-9cc1-73d6d2ea79f3",
   "metadata": {},
   "outputs": [
    {
     "name": "stdout",
     "output_type": "stream",
     "text": [
      "Root Mean Squared Error: 0.056309668722782966\n",
      "R² Score: 0.8851674459011593\n"
     ]
    }
   ],
   "source": [
    "# rf = RandomForestRegressor(n_estimators=900, max_depth=10, min_samples_leaf=5,random_state=42, n_jobs=-1)\n",
    "\n",
    "# rf.fit(X_train_split_final, Y_train_split)\n",
    "\n",
    "# rmse = np.sqrt(mean_squared_error(Y_train_val, y_pred_train_val_rf))\n",
    "# r2 = r2_score(Y_train_val, y_pred_train_val_rf)\n",
    "\n",
    "# print(\"Root Mean Squared Error:\", rmse)\n",
    "# print(\"R² Score:\", r2)"
   ]
  },
  {
   "cell_type": "code",
   "execution_count": 32,
   "id": "ce965072-f1a9-49e8-8eba-8e11a9bd9558",
   "metadata": {},
   "outputs": [],
   "source": [
    "########## Apply k-fold "
   ]
  },
  {
   "cell_type": "code",
   "execution_count": 33,
   "id": "b4a73537-2488-44e4-ad46-94144e3b9eb8",
   "metadata": {},
   "outputs": [],
   "source": [
    "# X_train_cat = X_train[categorical_features]\n",
    "# X_train_num = X_train[numeric_features]\n",
    "\n",
    "# encoder.fit(X_train_cat)\n",
    "\n",
    "# X_train_cat_encoded = encoder.transform(X_train_cat)\n",
    "\n",
    "# X_train_full = np.hstack([X_train_num.values, X_train_cat_encoded])\n"
   ]
  },
  {
   "cell_type": "code",
   "execution_count": 37,
   "id": "db471123-5d0f-4a26-86a6-2645ba0d6520",
   "metadata": {},
   "outputs": [],
   "source": [
    "# long running time"
   ]
  },
  {
   "cell_type": "code",
   "execution_count": 39,
   "id": "6fb86d48-e4a6-43c6-9d1d-d469abb5ae7a",
   "metadata": {},
   "outputs": [
    {
     "name": "stdout",
     "output_type": "stream",
     "text": [
      "\n",
      "===== Fold 1 =====\n",
      "Fold 1 RMSE: 0.05632125\n",
      "\n",
      "===== Fold 2 =====\n",
      "Fold 2 RMSE: 0.05618032\n",
      "\n",
      "===== Fold 3 =====\n",
      "Fold 3 RMSE: 0.05604019\n",
      "\n",
      "Average RMSE across folds: 0.05618058\n"
     ]
    }
   ],
   "source": [
    "# from sklearn.model_selection import KFold\n",
    "\n",
    "# test_preds = np.zeros(len(X_test_final))\n",
    "\n",
    "# fold_rmse = []\n",
    "\n",
    "# kf = KFold(n_splits=3, shuffle=True, random_state=42)\n",
    "\n",
    "# for fold, (train_idx, val_idx) in enumerate(kf.split(X_train_full)):\n",
    "#     print(f\"\\n===== Fold {fold+1} =====\")\n",
    "\n",
    "#     X_train_rfkf, X_val_rfkf = X_train_full[train_idx], X_train_full[val_idx]\n",
    "#     y_train_rfkf, y_val_rfkf = Y_train[train_idx], Y_train[val_idx]\n",
    "    \n",
    "#     rf.fit(X_train_rfkf, y_train_rfkf)   \n",
    "    \n",
    "#     # Predict on validation set\n",
    "#     y_pred_rfkf = rf.predict(X_val_rfkf)\n",
    "    \n",
    "#     rmse_rfkf = np.sqrt(mean_squared_error(y_val_rfkf, y_pred_rfkf))\n",
    "#     fold_rmse.append(rmse_rfkf)\n",
    "#     print(f\"Fold {fold+1} RMSE: {rmse_rfkf:.8f}\")\n",
    "\n",
    "#     test_preds += rf.predict(X_test_final) / kf.n_splits\n",
    "\n",
    "# print(f\"\\nAverage RMSE across folds: {np.mean(fold_rmse):.8f}\")"
   ]
  },
  {
   "cell_type": "code",
   "execution_count": 43,
   "id": "35f060ec-53b2-4558-8420-2bd184fdb0c6",
   "metadata": {},
   "outputs": [
    {
     "data": {
      "text/plain": [
       "array([0.29895225, 0.1217086 , 0.1777452 , ..., 0.24671873, 0.12916061,\n",
       "       0.48657885])"
      ]
     },
     "execution_count": 43,
     "metadata": {},
     "output_type": "execute_result"
    }
   ],
   "source": [
    "# y_pred_test_rf = test_preds\n",
    "# y_pred_test_rf"
   ]
  },
  {
   "cell_type": "code",
   "execution_count": null,
   "id": "1f569468-b664-4d2c-b735-9cbafc8961c5",
   "metadata": {},
   "outputs": [],
   "source": [
    "########## Gradient Boosting Regression ########## "
   ]
  },
  {
   "cell_type": "code",
   "execution_count": 150,
   "id": "0e124e89-80e4-43ed-88c6-ce9982b5b472",
   "metadata": {},
   "outputs": [
    {
     "data": {
      "text/html": [
       "<style>#sk-container-id-7 {color: black;}#sk-container-id-7 pre{padding: 0;}#sk-container-id-7 div.sk-toggleable {background-color: white;}#sk-container-id-7 label.sk-toggleable__label {cursor: pointer;display: block;width: 100%;margin-bottom: 0;padding: 0.3em;box-sizing: border-box;text-align: center;}#sk-container-id-7 label.sk-toggleable__label-arrow:before {content: \"▸\";float: left;margin-right: 0.25em;color: #696969;}#sk-container-id-7 label.sk-toggleable__label-arrow:hover:before {color: black;}#sk-container-id-7 div.sk-estimator:hover label.sk-toggleable__label-arrow:before {color: black;}#sk-container-id-7 div.sk-toggleable__content {max-height: 0;max-width: 0;overflow: hidden;text-align: left;background-color: #f0f8ff;}#sk-container-id-7 div.sk-toggleable__content pre {margin: 0.2em;color: black;border-radius: 0.25em;background-color: #f0f8ff;}#sk-container-id-7 input.sk-toggleable__control:checked~div.sk-toggleable__content {max-height: 200px;max-width: 100%;overflow: auto;}#sk-container-id-7 input.sk-toggleable__control:checked~label.sk-toggleable__label-arrow:before {content: \"▾\";}#sk-container-id-7 div.sk-estimator input.sk-toggleable__control:checked~label.sk-toggleable__label {background-color: #d4ebff;}#sk-container-id-7 div.sk-label input.sk-toggleable__control:checked~label.sk-toggleable__label {background-color: #d4ebff;}#sk-container-id-7 input.sk-hidden--visually {border: 0;clip: rect(1px 1px 1px 1px);clip: rect(1px, 1px, 1px, 1px);height: 1px;margin: -1px;overflow: hidden;padding: 0;position: absolute;width: 1px;}#sk-container-id-7 div.sk-estimator {font-family: monospace;background-color: #f0f8ff;border: 1px dotted black;border-radius: 0.25em;box-sizing: border-box;margin-bottom: 0.5em;}#sk-container-id-7 div.sk-estimator:hover {background-color: #d4ebff;}#sk-container-id-7 div.sk-parallel-item::after {content: \"\";width: 100%;border-bottom: 1px solid gray;flex-grow: 1;}#sk-container-id-7 div.sk-label:hover label.sk-toggleable__label {background-color: #d4ebff;}#sk-container-id-7 div.sk-serial::before {content: \"\";position: absolute;border-left: 1px solid gray;box-sizing: border-box;top: 0;bottom: 0;left: 50%;z-index: 0;}#sk-container-id-7 div.sk-serial {display: flex;flex-direction: column;align-items: center;background-color: white;padding-right: 0.2em;padding-left: 0.2em;position: relative;}#sk-container-id-7 div.sk-item {position: relative;z-index: 1;}#sk-container-id-7 div.sk-parallel {display: flex;align-items: stretch;justify-content: center;background-color: white;position: relative;}#sk-container-id-7 div.sk-item::before, #sk-container-id-7 div.sk-parallel-item::before {content: \"\";position: absolute;border-left: 1px solid gray;box-sizing: border-box;top: 0;bottom: 0;left: 50%;z-index: -1;}#sk-container-id-7 div.sk-parallel-item {display: flex;flex-direction: column;z-index: 1;position: relative;background-color: white;}#sk-container-id-7 div.sk-parallel-item:first-child::after {align-self: flex-end;width: 50%;}#sk-container-id-7 div.sk-parallel-item:last-child::after {align-self: flex-start;width: 50%;}#sk-container-id-7 div.sk-parallel-item:only-child::after {width: 0;}#sk-container-id-7 div.sk-dashed-wrapped {border: 1px dashed gray;margin: 0 0.4em 0.5em 0.4em;box-sizing: border-box;padding-bottom: 0.4em;background-color: white;}#sk-container-id-7 div.sk-label label {font-family: monospace;font-weight: bold;display: inline-block;line-height: 1.2em;}#sk-container-id-7 div.sk-label-container {text-align: center;}#sk-container-id-7 div.sk-container {/* jupyter's `normalize.less` sets `[hidden] { display: none; }` but bootstrap.min.css set `[hidden] { display: none !important; }` so we also need the `!important` here to be able to override the default hidden behavior on the sphinx rendered scikit-learn.org. See: https://github.com/scikit-learn/scikit-learn/issues/21755 */display: inline-block !important;position: relative;}#sk-container-id-7 div.sk-text-repr-fallback {display: none;}</style><div id=\"sk-container-id-7\" class=\"sk-top-container\"><div class=\"sk-text-repr-fallback\"><pre>GradientBoostingRegressor(max_depth=4, min_samples_leaf=3, n_estimators=500,\n",
       "                          random_state=42)</pre><b>In a Jupyter environment, please rerun this cell to show the HTML representation or trust the notebook. <br />On GitHub, the HTML representation is unable to render, please try loading this page with nbviewer.org.</b></div><div class=\"sk-container\" hidden><div class=\"sk-item\"><div class=\"sk-estimator sk-toggleable\"><input class=\"sk-toggleable__control sk-hidden--visually\" id=\"sk-estimator-id-7\" type=\"checkbox\" checked><label for=\"sk-estimator-id-7\" class=\"sk-toggleable__label sk-toggleable__label-arrow\">GradientBoostingRegressor</label><div class=\"sk-toggleable__content\"><pre>GradientBoostingRegressor(max_depth=4, min_samples_leaf=3, n_estimators=500,\n",
       "                          random_state=42)</pre></div></div></div></div></div>"
      ],
      "text/plain": [
       "GradientBoostingRegressor(max_depth=4, min_samples_leaf=3, n_estimators=500,\n",
       "                          random_state=42)"
      ]
     },
     "execution_count": 150,
     "metadata": {},
     "output_type": "execute_result"
    }
   ],
   "source": [
    "from sklearn.ensemble import GradientBoostingRegressor\n",
    "\n",
    "gbr = GradientBoostingRegressor(n_estimators=500, learning_rate=0.1, max_depth=4,            \n",
    "    min_samples_leaf=3, random_state=42)\n",
    "\n",
    "gbr.fit(X_train_split_final, Y_train_split)"
   ]
  },
  {
   "cell_type": "code",
   "execution_count": 151,
   "id": "741e1f95-ea04-4ee6-999e-1670a19a200b",
   "metadata": {
    "scrolled": true
   },
   "outputs": [
    {
     "name": "stdout",
     "output_type": "stream",
     "text": [
      "Root Mean Squared Error: 0.05640946985821051\n",
      "R² Score: 0.8847600353959664\n"
     ]
    }
   ],
   "source": [
    "y_pred_train_val_gbr = gbr.predict(X_train_val_final)\n",
    "\n",
    "rmse_gbr = np.sqrt(mean_squared_error(Y_train_val, y_pred_train_val_gbr))\n",
    "r2_gbr = r2_score(Y_train_val, y_pred_train_val_gbr)\n",
    "\n",
    "print(\"Root Mean Squared Error:\", rmse_gbr)\n",
    "print(\"R² Score:\", r2_gbr)"
   ]
  },
  {
   "cell_type": "code",
   "execution_count": 152,
   "id": "ef2a127e-ecb2-414f-84cc-e162296785f8",
   "metadata": {},
   "outputs": [],
   "source": [
    "########## Apply k-fold "
   ]
  },
  {
   "cell_type": "code",
   "execution_count": 153,
   "id": "3ec65919-51f7-46f5-8f64-a11a785fda19",
   "metadata": {},
   "outputs": [],
   "source": [
    "X_train_cat = X_train[categorical_features]\n",
    "X_train_num = X_train[numeric_features]\n",
    "\n",
    "encoder.fit(X_train_cat)\n",
    "\n",
    "X_train_cat_encoded = encoder.transform(X_train_cat)\n",
    "\n",
    "X_train_full = np.hstack([X_train_num.values, X_train_cat_encoded])"
   ]
  },
  {
   "cell_type": "code",
   "execution_count": 154,
   "id": "0a7377d4-f971-4a47-beaf-7ba5e7b8c2be",
   "metadata": {
    "scrolled": true
   },
   "outputs": [
    {
     "name": "stdout",
     "output_type": "stream",
     "text": [
      "\n",
      "===== Fold 1 =====\n",
      "Fold 1 RMSE: 0.05643245\n",
      "\n",
      "===== Fold 2 =====\n",
      "Fold 2 RMSE: 0.05627100\n",
      "\n",
      "===== Fold 3 =====\n",
      "Fold 3 RMSE: 0.05614752\n",
      "\n",
      "Average RMSE across folds: 0.05628366\n"
     ]
    }
   ],
   "source": [
    "from sklearn.model_selection import KFold\n",
    "\n",
    "test_preds_grb = np.zeros(len(X_test_final))\n",
    "\n",
    "fold_rmse = []\n",
    "\n",
    "kf = KFold(n_splits=3, shuffle=True, random_state=42)\n",
    "\n",
    "for fold, (train_idx, val_idx) in enumerate(kf.split(X_train_full)):\n",
    "    print(f\"\\n===== Fold {fold+1} =====\")\n",
    "\n",
    "    X_train_gbrkf, X_val_gbrkf = X_train_full[train_idx], X_train_full[val_idx]\n",
    "    y_train_gbrkf, y_val_gbrkf = Y_train[train_idx], Y_train[val_idx]\n",
    "    \n",
    "    gbr.fit(X_train_gbrkf, y_train_gbrkf)   \n",
    "    \n",
    "    # Predict on validation set\n",
    "    y_pred_gbrkf = gbr.predict(X_val_gbrkf)\n",
    "    \n",
    "    rmse_gbrkf = np.sqrt(mean_squared_error(y_val_gbrkf, y_pred_gbrkf))\n",
    "    fold_rmse.append(rmse_gbrkf)\n",
    "    print(f\"Fold {fold+1} RMSE: {rmse_gbrkf:.8f}\")\n",
    "\n",
    "    test_preds_grb += gbr.predict(X_test_final) / kf.n_splits\n",
    "\n",
    "print(f\"\\nAverage RMSE across folds: {np.mean(fold_rmse):.8f}\")"
   ]
  },
  {
   "cell_type": "code",
   "execution_count": 155,
   "id": "2abf5600-c652-40d1-b0dd-e5d09748a4e6",
   "metadata": {},
   "outputs": [
    {
     "data": {
      "text/plain": [
       "array([0.29167794, 0.12403061, 0.19286005, ..., 0.25199063, 0.12867109,\n",
       "       0.49181656])"
      ]
     },
     "execution_count": 155,
     "metadata": {},
     "output_type": "execute_result"
    }
   ],
   "source": [
    "# Predict\n",
    "y_pred_test_rf = test_preds_grb\n",
    "y_pred_test_rf"
   ]
  },
  {
   "cell_type": "code",
   "execution_count": 57,
   "id": "e63bcf9c-52b6-4f4f-9d10-1b373b0d786d",
   "metadata": {},
   "outputs": [],
   "source": [
    "########## XGBoost ##########"
   ]
  },
  {
   "cell_type": "code",
   "execution_count": 160,
   "id": "4925b1b8-f376-459e-a02b-f96775fe21ff",
   "metadata": {},
   "outputs": [
    {
     "name": "stdout",
     "output_type": "stream",
     "text": [
      "Requirement already satisfied: xgboost in ./anaconda3/lib/python3.11/site-packages (3.0.5)\n",
      "Requirement already satisfied: numpy in ./anaconda3/lib/python3.11/site-packages (from xgboost) (1.24.3)\n",
      "Requirement already satisfied: scipy in ./anaconda3/lib/python3.11/site-packages (from xgboost) (1.11.1)\n",
      "Note: you may need to restart the kernel to use updated packages.\n"
     ]
    }
   ],
   "source": [
    "pip install xgboost\n"
   ]
  },
  {
   "cell_type": "code",
   "execution_count": 161,
   "id": "b2cb8c7a-6209-4004-a5a2-f4f43870797b",
   "metadata": {},
   "outputs": [
    {
     "data": {
      "text/html": [
       "<style>#sk-container-id-8 {color: black;}#sk-container-id-8 pre{padding: 0;}#sk-container-id-8 div.sk-toggleable {background-color: white;}#sk-container-id-8 label.sk-toggleable__label {cursor: pointer;display: block;width: 100%;margin-bottom: 0;padding: 0.3em;box-sizing: border-box;text-align: center;}#sk-container-id-8 label.sk-toggleable__label-arrow:before {content: \"▸\";float: left;margin-right: 0.25em;color: #696969;}#sk-container-id-8 label.sk-toggleable__label-arrow:hover:before {color: black;}#sk-container-id-8 div.sk-estimator:hover label.sk-toggleable__label-arrow:before {color: black;}#sk-container-id-8 div.sk-toggleable__content {max-height: 0;max-width: 0;overflow: hidden;text-align: left;background-color: #f0f8ff;}#sk-container-id-8 div.sk-toggleable__content pre {margin: 0.2em;color: black;border-radius: 0.25em;background-color: #f0f8ff;}#sk-container-id-8 input.sk-toggleable__control:checked~div.sk-toggleable__content {max-height: 200px;max-width: 100%;overflow: auto;}#sk-container-id-8 input.sk-toggleable__control:checked~label.sk-toggleable__label-arrow:before {content: \"▾\";}#sk-container-id-8 div.sk-estimator input.sk-toggleable__control:checked~label.sk-toggleable__label {background-color: #d4ebff;}#sk-container-id-8 div.sk-label input.sk-toggleable__control:checked~label.sk-toggleable__label {background-color: #d4ebff;}#sk-container-id-8 input.sk-hidden--visually {border: 0;clip: rect(1px 1px 1px 1px);clip: rect(1px, 1px, 1px, 1px);height: 1px;margin: -1px;overflow: hidden;padding: 0;position: absolute;width: 1px;}#sk-container-id-8 div.sk-estimator {font-family: monospace;background-color: #f0f8ff;border: 1px dotted black;border-radius: 0.25em;box-sizing: border-box;margin-bottom: 0.5em;}#sk-container-id-8 div.sk-estimator:hover {background-color: #d4ebff;}#sk-container-id-8 div.sk-parallel-item::after {content: \"\";width: 100%;border-bottom: 1px solid gray;flex-grow: 1;}#sk-container-id-8 div.sk-label:hover label.sk-toggleable__label {background-color: #d4ebff;}#sk-container-id-8 div.sk-serial::before {content: \"\";position: absolute;border-left: 1px solid gray;box-sizing: border-box;top: 0;bottom: 0;left: 50%;z-index: 0;}#sk-container-id-8 div.sk-serial {display: flex;flex-direction: column;align-items: center;background-color: white;padding-right: 0.2em;padding-left: 0.2em;position: relative;}#sk-container-id-8 div.sk-item {position: relative;z-index: 1;}#sk-container-id-8 div.sk-parallel {display: flex;align-items: stretch;justify-content: center;background-color: white;position: relative;}#sk-container-id-8 div.sk-item::before, #sk-container-id-8 div.sk-parallel-item::before {content: \"\";position: absolute;border-left: 1px solid gray;box-sizing: border-box;top: 0;bottom: 0;left: 50%;z-index: -1;}#sk-container-id-8 div.sk-parallel-item {display: flex;flex-direction: column;z-index: 1;position: relative;background-color: white;}#sk-container-id-8 div.sk-parallel-item:first-child::after {align-self: flex-end;width: 50%;}#sk-container-id-8 div.sk-parallel-item:last-child::after {align-self: flex-start;width: 50%;}#sk-container-id-8 div.sk-parallel-item:only-child::after {width: 0;}#sk-container-id-8 div.sk-dashed-wrapped {border: 1px dashed gray;margin: 0 0.4em 0.5em 0.4em;box-sizing: border-box;padding-bottom: 0.4em;background-color: white;}#sk-container-id-8 div.sk-label label {font-family: monospace;font-weight: bold;display: inline-block;line-height: 1.2em;}#sk-container-id-8 div.sk-label-container {text-align: center;}#sk-container-id-8 div.sk-container {/* jupyter's `normalize.less` sets `[hidden] { display: none; }` but bootstrap.min.css set `[hidden] { display: none !important; }` so we also need the `!important` here to be able to override the default hidden behavior on the sphinx rendered scikit-learn.org. See: https://github.com/scikit-learn/scikit-learn/issues/21755 */display: inline-block !important;position: relative;}#sk-container-id-8 div.sk-text-repr-fallback {display: none;}</style><div id=\"sk-container-id-8\" class=\"sk-top-container\"><div class=\"sk-text-repr-fallback\"><pre>XGBRegressor(base_score=None, booster=None, callbacks=None,\n",
       "             colsample_bylevel=None, colsample_bynode=None,\n",
       "             colsample_bytree=None, device=None, early_stopping_rounds=None,\n",
       "             enable_categorical=False, eval_metric=None, feature_types=None,\n",
       "             feature_weights=None, gamma=None, grow_policy=None,\n",
       "             importance_type=None, interaction_constraints=None,\n",
       "             learning_rate=0.1, max_bin=None, max_cat_threshold=None,\n",
       "             max_cat_to_onehot=None, max_delta_step=None, max_depth=3,\n",
       "             max_leaves=None, min_child_weight=None, missing=nan,\n",
       "             monotone_constraints=None, multi_strategy=None, n_estimators=100,\n",
       "             n_jobs=None, num_parallel_tree=None, ...)</pre><b>In a Jupyter environment, please rerun this cell to show the HTML representation or trust the notebook. <br />On GitHub, the HTML representation is unable to render, please try loading this page with nbviewer.org.</b></div><div class=\"sk-container\" hidden><div class=\"sk-item\"><div class=\"sk-estimator sk-toggleable\"><input class=\"sk-toggleable__control sk-hidden--visually\" id=\"sk-estimator-id-8\" type=\"checkbox\" checked><label for=\"sk-estimator-id-8\" class=\"sk-toggleable__label sk-toggleable__label-arrow\">XGBRegressor</label><div class=\"sk-toggleable__content\"><pre>XGBRegressor(base_score=None, booster=None, callbacks=None,\n",
       "             colsample_bylevel=None, colsample_bynode=None,\n",
       "             colsample_bytree=None, device=None, early_stopping_rounds=None,\n",
       "             enable_categorical=False, eval_metric=None, feature_types=None,\n",
       "             feature_weights=None, gamma=None, grow_policy=None,\n",
       "             importance_type=None, interaction_constraints=None,\n",
       "             learning_rate=0.1, max_bin=None, max_cat_threshold=None,\n",
       "             max_cat_to_onehot=None, max_delta_step=None, max_depth=3,\n",
       "             max_leaves=None, min_child_weight=None, missing=nan,\n",
       "             monotone_constraints=None, multi_strategy=None, n_estimators=100,\n",
       "             n_jobs=None, num_parallel_tree=None, ...)</pre></div></div></div></div></div>"
      ],
      "text/plain": [
       "XGBRegressor(base_score=None, booster=None, callbacks=None,\n",
       "             colsample_bylevel=None, colsample_bynode=None,\n",
       "             colsample_bytree=None, device=None, early_stopping_rounds=None,\n",
       "             enable_categorical=False, eval_metric=None, feature_types=None,\n",
       "             feature_weights=None, gamma=None, grow_policy=None,\n",
       "             importance_type=None, interaction_constraints=None,\n",
       "             learning_rate=0.1, max_bin=None, max_cat_threshold=None,\n",
       "             max_cat_to_onehot=None, max_delta_step=None, max_depth=3,\n",
       "             max_leaves=None, min_child_weight=None, missing=nan,\n",
       "             monotone_constraints=None, multi_strategy=None, n_estimators=100,\n",
       "             n_jobs=None, num_parallel_tree=None, ...)"
      ]
     },
     "execution_count": 161,
     "metadata": {},
     "output_type": "execute_result"
    }
   ],
   "source": [
    "import xgboost as xgb\n",
    "\n",
    "xgb = xgb.XGBRegressor(n_estimators=100, learning_rate=0.1, max_depth=3, random_state=42)\n",
    "\n",
    "xgb.fit(X_train_split_final,Y_train_split)"
   ]
  },
  {
   "cell_type": "code",
   "execution_count": 162,
   "id": "87e40bd7-0421-4bbb-84f1-fa67bd96930a",
   "metadata": {},
   "outputs": [
    {
     "name": "stdout",
     "output_type": "stream",
     "text": [
      "Root Mean Squared Error: 0.05702068250426873\n",
      "R² Score: 0.8822491902634115\n"
     ]
    }
   ],
   "source": [
    "y_pred_xgb = xgb.predict(X_train_val_final)\n",
    "\n",
    "rmse_xgb = np.sqrt(mean_squared_error(Y_train_val, y_pred_xgb))\n",
    "r2_xgb = r2_score(Y_train_val, y_pred_xgb)\n",
    "\n",
    "print(\"Root Mean Squared Error:\", rmse_xgb)\n",
    "print(\"R² Score:\", r2_xgb)"
   ]
  },
  {
   "cell_type": "code",
   "execution_count": 168,
   "id": "1d056006-25b2-4b92-aae5-052439ed0ca9",
   "metadata": {},
   "outputs": [],
   "source": [
    "########## Apply k-fold \n",
    "# X_train_cat = X_train[categorical_features]\n",
    "# X_train_num = X_train[numeric_features]\n",
    "\n",
    "# encoder.fit(X_train_cat)\n",
    "\n",
    "# X_train_cat_encoded = encoder.transform(X_train_cat)\n",
    "\n",
    "# X_train_full = np.hstack([X_train_num.values, X_train_cat_encoded])"
   ]
  },
  {
   "cell_type": "code",
   "execution_count": 170,
   "id": "367618ca-4d99-4b26-bebc-628b8c1df0be",
   "metadata": {},
   "outputs": [
    {
     "name": "stdout",
     "output_type": "stream",
     "text": [
      "\n",
      "===== Fold 1 =====\n",
      "Fold 1 RMSE: 0.05699451\n",
      "\n",
      "===== Fold 2 =====\n",
      "Fold 2 RMSE: 0.05689119\n",
      "\n",
      "===== Fold 3 =====\n",
      "Fold 3 RMSE: 0.05672435\n",
      "\n",
      "Average RMSE across folds: 0.05687002\n"
     ]
    }
   ],
   "source": [
    "test_preds_xgb = np.zeros(len(X_test_final))\n",
    "\n",
    "fold_rmse = []\n",
    "\n",
    "kf = KFold(n_splits = 3, shuffle = True, random_state = 42)\n",
    "\n",
    "for fold, (train_idx, val_idx) in enumerate(kf.split(X_train_full)):\n",
    "    print(f\"\\n===== Fold {fold+1} =====\")\n",
    "\n",
    "    X_train_xgbkf, X_val_xgbkf = X_train_full[train_idx], X_train_full[val_idx]\n",
    "    y_train_xgbkf, y_val_xgbkf = Y_train[train_idx], Y_train[val_idx]\n",
    "\n",
    "    xgb.fit(X_train_xgbkf,y_train_xgbkf)\n",
    "\n",
    "    # predict on validation set\n",
    "    y_pred_xbgkf = xgb.predict(X_val_xgbkf)\n",
    "\n",
    "    rmse_xgbkf = np.sqrt(mean_squared_error(y_val_xgbkf, y_pred_xbgkf))\n",
    "    fold_rmse.append(rmse_xgbkf)\n",
    "    print(f\"Fold {fold+1} RMSE: {rmse_xgbkf:.8f}\")\n",
    "\n",
    "    test_preds_xgb += xgb.predict(X_test_final) / kf.n_splits\n",
    "\n",
    "print(f\"\\nAverage RMSE across folds: {np.mean(fold_rmse):.8f}\")"
   ]
  },
  {
   "cell_type": "code",
   "execution_count": 171,
   "id": "777acef3-ab72-4219-a5be-80777abc58c7",
   "metadata": {},
   "outputs": [
    {
     "data": {
      "text/plain": [
       "array([0.28631081, 0.12760276, 0.19316244, ..., 0.24968368, 0.13192366,\n",
       "       0.48258881])"
      ]
     },
     "execution_count": 171,
     "metadata": {},
     "output_type": "execute_result"
    }
   ],
   "source": [
    "# Predict\n",
    "y_pred_test_xgb = test_preds_xgb\n",
    "y_pred_test_xgb"
   ]
  },
  {
   "cell_type": "code",
   "execution_count": 172,
   "id": "15972adb-e4f3-49a7-9296-de57d82efad0",
   "metadata": {},
   "outputs": [],
   "source": [
    "########## Lightgbm ##########"
   ]
  },
  {
   "cell_type": "code",
   "execution_count": 176,
   "id": "b96de846-0649-4f03-a91d-aa3b5f1bf5e0",
   "metadata": {},
   "outputs": [
    {
     "name": "stdout",
     "output_type": "stream",
     "text": [
      "Requirement already satisfied: lightgbm in ./anaconda3/lib/python3.11/site-packages (4.6.0)\n",
      "Requirement already satisfied: numpy>=1.17.0 in ./anaconda3/lib/python3.11/site-packages (from lightgbm) (1.24.3)\n",
      "Requirement already satisfied: scipy in ./anaconda3/lib/python3.11/site-packages (from lightgbm) (1.11.1)\n",
      "Note: you may need to restart the kernel to use updated packages.\n"
     ]
    }
   ],
   "source": [
    "pip install lightgbm"
   ]
  },
  {
   "cell_type": "code",
   "execution_count": 177,
   "id": "6a38ffcf-7526-403e-9870-bdd64729799f",
   "metadata": {},
   "outputs": [
    {
     "name": "stdout",
     "output_type": "stream",
     "text": [
      "[LightGBM] [Info] Auto-choosing row-wise multi-threading, the overhead of testing was 0.007722 seconds.\n",
      "You can set `force_row_wise=true` to remove the overhead.\n",
      "And if memory is not enough, you can set `force_col_wise=true`.\n",
      "[LightGBM] [Info] Total Bins 187\n",
      "[LightGBM] [Info] Number of data points in the train set: 414203, number of used features: 24\n",
      "[LightGBM] [Info] Start training from score 0.352605\n"
     ]
    },
    {
     "data": {
      "text/html": [
       "<style>#sk-container-id-9 {color: black;}#sk-container-id-9 pre{padding: 0;}#sk-container-id-9 div.sk-toggleable {background-color: white;}#sk-container-id-9 label.sk-toggleable__label {cursor: pointer;display: block;width: 100%;margin-bottom: 0;padding: 0.3em;box-sizing: border-box;text-align: center;}#sk-container-id-9 label.sk-toggleable__label-arrow:before {content: \"▸\";float: left;margin-right: 0.25em;color: #696969;}#sk-container-id-9 label.sk-toggleable__label-arrow:hover:before {color: black;}#sk-container-id-9 div.sk-estimator:hover label.sk-toggleable__label-arrow:before {color: black;}#sk-container-id-9 div.sk-toggleable__content {max-height: 0;max-width: 0;overflow: hidden;text-align: left;background-color: #f0f8ff;}#sk-container-id-9 div.sk-toggleable__content pre {margin: 0.2em;color: black;border-radius: 0.25em;background-color: #f0f8ff;}#sk-container-id-9 input.sk-toggleable__control:checked~div.sk-toggleable__content {max-height: 200px;max-width: 100%;overflow: auto;}#sk-container-id-9 input.sk-toggleable__control:checked~label.sk-toggleable__label-arrow:before {content: \"▾\";}#sk-container-id-9 div.sk-estimator input.sk-toggleable__control:checked~label.sk-toggleable__label {background-color: #d4ebff;}#sk-container-id-9 div.sk-label input.sk-toggleable__control:checked~label.sk-toggleable__label {background-color: #d4ebff;}#sk-container-id-9 input.sk-hidden--visually {border: 0;clip: rect(1px 1px 1px 1px);clip: rect(1px, 1px, 1px, 1px);height: 1px;margin: -1px;overflow: hidden;padding: 0;position: absolute;width: 1px;}#sk-container-id-9 div.sk-estimator {font-family: monospace;background-color: #f0f8ff;border: 1px dotted black;border-radius: 0.25em;box-sizing: border-box;margin-bottom: 0.5em;}#sk-container-id-9 div.sk-estimator:hover {background-color: #d4ebff;}#sk-container-id-9 div.sk-parallel-item::after {content: \"\";width: 100%;border-bottom: 1px solid gray;flex-grow: 1;}#sk-container-id-9 div.sk-label:hover label.sk-toggleable__label {background-color: #d4ebff;}#sk-container-id-9 div.sk-serial::before {content: \"\";position: absolute;border-left: 1px solid gray;box-sizing: border-box;top: 0;bottom: 0;left: 50%;z-index: 0;}#sk-container-id-9 div.sk-serial {display: flex;flex-direction: column;align-items: center;background-color: white;padding-right: 0.2em;padding-left: 0.2em;position: relative;}#sk-container-id-9 div.sk-item {position: relative;z-index: 1;}#sk-container-id-9 div.sk-parallel {display: flex;align-items: stretch;justify-content: center;background-color: white;position: relative;}#sk-container-id-9 div.sk-item::before, #sk-container-id-9 div.sk-parallel-item::before {content: \"\";position: absolute;border-left: 1px solid gray;box-sizing: border-box;top: 0;bottom: 0;left: 50%;z-index: -1;}#sk-container-id-9 div.sk-parallel-item {display: flex;flex-direction: column;z-index: 1;position: relative;background-color: white;}#sk-container-id-9 div.sk-parallel-item:first-child::after {align-self: flex-end;width: 50%;}#sk-container-id-9 div.sk-parallel-item:last-child::after {align-self: flex-start;width: 50%;}#sk-container-id-9 div.sk-parallel-item:only-child::after {width: 0;}#sk-container-id-9 div.sk-dashed-wrapped {border: 1px dashed gray;margin: 0 0.4em 0.5em 0.4em;box-sizing: border-box;padding-bottom: 0.4em;background-color: white;}#sk-container-id-9 div.sk-label label {font-family: monospace;font-weight: bold;display: inline-block;line-height: 1.2em;}#sk-container-id-9 div.sk-label-container {text-align: center;}#sk-container-id-9 div.sk-container {/* jupyter's `normalize.less` sets `[hidden] { display: none; }` but bootstrap.min.css set `[hidden] { display: none !important; }` so we also need the `!important` here to be able to override the default hidden behavior on the sphinx rendered scikit-learn.org. See: https://github.com/scikit-learn/scikit-learn/issues/21755 */display: inline-block !important;position: relative;}#sk-container-id-9 div.sk-text-repr-fallback {display: none;}</style><div id=\"sk-container-id-9\" class=\"sk-top-container\"><div class=\"sk-text-repr-fallback\"><pre>LGBMRegressor(colsample_bytree=0.8, learning_rate=0.05, n_estimators=1000,\n",
       "              random_state=42, subsample=0.8)</pre><b>In a Jupyter environment, please rerun this cell to show the HTML representation or trust the notebook. <br />On GitHub, the HTML representation is unable to render, please try loading this page with nbviewer.org.</b></div><div class=\"sk-container\" hidden><div class=\"sk-item\"><div class=\"sk-estimator sk-toggleable\"><input class=\"sk-toggleable__control sk-hidden--visually\" id=\"sk-estimator-id-9\" type=\"checkbox\" checked><label for=\"sk-estimator-id-9\" class=\"sk-toggleable__label sk-toggleable__label-arrow\">LGBMRegressor</label><div class=\"sk-toggleable__content\"><pre>LGBMRegressor(colsample_bytree=0.8, learning_rate=0.05, n_estimators=1000,\n",
       "              random_state=42, subsample=0.8)</pre></div></div></div></div></div>"
      ],
      "text/plain": [
       "LGBMRegressor(colsample_bytree=0.8, learning_rate=0.05, n_estimators=1000,\n",
       "              random_state=42, subsample=0.8)"
      ]
     },
     "execution_count": 177,
     "metadata": {},
     "output_type": "execute_result"
    }
   ],
   "source": [
    "import lightgbm as lgb\n",
    "\n",
    "lgb = lgb.LGBMRegressor(n_estimators=1000, learning_rate=0.05, max_depth=-1, subsample=0.8,\n",
    "        colsample_bytree=0.8, random_state=42)\n",
    "\n",
    "lgb.fit(X_train_split_final,Y_train_split)"
   ]
  },
  {
   "cell_type": "code",
   "execution_count": 180,
   "id": "c692185b-5bfa-4e9e-9f51-61d56482ddb5",
   "metadata": {},
   "outputs": [
    {
     "name": "stdout",
     "output_type": "stream",
     "text": [
      "Root Mean Squared Error: 0.05627426601851341\n",
      "R² Score: 0.8853117942897358\n"
     ]
    }
   ],
   "source": [
    "y_pred_lgb = lgb.predict(X_train_val_final)\n",
    "\n",
    "rmse_lgb = np.sqrt(mean_squared_error(Y_train_val, y_pred_lgb))\n",
    "r2_lgb = r2_score(Y_train_val, y_pred_lgb)\n",
    "\n",
    "print(\"Root Mean Squared Error:\", rmse_lgb)\n",
    "print(\"R² Score:\", r2_lgb)"
   ]
  },
  {
   "cell_type": "code",
   "execution_count": 181,
   "id": "5ff63e99-4414-4737-a42e-629d9a4b102e",
   "metadata": {},
   "outputs": [
    {
     "data": {
      "text/plain": [
       "array([0.28919456, 0.12194197, 0.18513125, ..., 0.25284846, 0.12688031,\n",
       "       0.48783072])"
      ]
     },
     "execution_count": 181,
     "metadata": {},
     "output_type": "execute_result"
    }
   ],
   "source": [
    "y_pred_test_lgb = lgb.predict(X_test_final)\n",
    "y_pred_test_lgb"
   ]
  },
  {
   "cell_type": "code",
   "execution_count": 182,
   "id": "c6530fc4-a321-4cee-bf00-74227031ae1a",
   "metadata": {},
   "outputs": [],
   "source": [
    "########## Apply k-fold "
   ]
  },
  {
   "cell_type": "code",
   "execution_count": 183,
   "id": "0ae1314d-b318-4525-a96b-ae404ea5b678",
   "metadata": {
    "scrolled": true
   },
   "outputs": [
    {
     "name": "stdout",
     "output_type": "stream",
     "text": [
      "\n",
      "===fold 1 ====\n",
      "[LightGBM] [Info] Auto-choosing row-wise multi-threading, the overhead of testing was 0.006281 seconds.\n",
      "You can set `force_row_wise=true` to remove the overhead.\n",
      "And if memory is not enough, you can set `force_col_wise=true`.\n",
      "[LightGBM] [Info] Total Bins 185\n",
      "[LightGBM] [Info] Number of data points in the train set: 345169, number of used features: 24\n",
      "[LightGBM] [Info] Start training from score 0.352438\n",
      "==== fold 1 RMSE : 0.05631570\n",
      "\n",
      "===fold 2 ====\n",
      "[LightGBM] [Info] Auto-choosing col-wise multi-threading, the overhead of testing was 0.120128 seconds.\n",
      "You can set `force_col_wise=true` to remove the overhead.\n",
      "[LightGBM] [Info] Total Bins 188\n",
      "[LightGBM] [Info] Number of data points in the train set: 345169, number of used features: 24\n",
      "[LightGBM] [Info] Start training from score 0.352326\n",
      "==== fold 2 RMSE : 0.05613730\n",
      "\n",
      "===fold 3 ====\n",
      "[LightGBM] [Info] Auto-choosing row-wise multi-threading, the overhead of testing was 0.010937 seconds.\n",
      "You can set `force_row_wise=true` to remove the overhead.\n",
      "And if memory is not enough, you can set `force_col_wise=true`.\n",
      "[LightGBM] [Info] Total Bins 189\n",
      "[LightGBM] [Info] Number of data points in the train set: 345170, number of used features: 24\n",
      "[LightGBM] [Info] Start training from score 0.352368\n",
      "==== fold 3 RMSE : 0.05599032\n",
      "\n",
      "Average RMSE across folds: 0.05614777\n"
     ]
    }
   ],
   "source": [
    "test_preds_lgb = np.zeros(len(X_test_final))\n",
    "\n",
    "fold_rmse = []\n",
    "\n",
    "kf = KFold(n_splits = 3, shuffle = True, random_state = 42)\n",
    "\n",
    "for fold, (train_idx, val_idx) in enumerate(kf.split(X_train_full)):\n",
    "    print(f\"\\n===fold {fold +1} ====\")\n",
    "    \n",
    "    X_train_split_lgbkf, X_train_val_lgbkf = X_train_full[train_idx], X_train_full[val_idx]\n",
    "    Y_train_split_lgbkf, Y_train_val_lgbkf = Y_train[train_idx], Y_train[val_idx]\n",
    "\n",
    "    lgb.fit(X_train_split_lgbkf,Y_train_split_lgbkf)\n",
    "\n",
    "    y_pred_val = lgb.predict(X_train_val_lgbkf)\n",
    "\n",
    "    rmse_lgbkf = np.sqrt(mean_squared_error(y_pred_val,Y_train_val_lgbkf))\n",
    "    fold_rmse.append(rmse_lgbkf)\n",
    "    print(f\"==== fold {fold +1} RMSE : {rmse_lgbkf:.8f}\")\n",
    "\n",
    "    test_preds_lgb += lgb.predict(X_test_final) / kf.n_splits\n",
    "\n",
    "print(f\"\\nAverage RMSE across folds: {np.mean(fold_rmse):.8f}\")"
   ]
  },
  {
   "cell_type": "code",
   "execution_count": 187,
   "id": "e3fde024-0339-44a0-ae99-672531759b1e",
   "metadata": {},
   "outputs": [],
   "source": [
    "### Base Prediction\n",
    "\n",
    "# grb_test_pred = grb.predict(X_test_final)\n",
    "# xgb_test_pred = xgb.predict(X_test_final)\n",
    "# lgb_test_pred = lgb.predict(X_test_final)\n",
    "\n",
    "# grb_val_pred = grb.predict(X_train_val_final)\n",
    "# xgb_val_pred = xgb.predict(X_train_val_final)\n",
    "# lgb_val_pred = lgb.predict(X_train_val_final)\n",
    "\n"
   ]
  },
  {
   "cell_type": "code",
   "execution_count": 188,
   "id": "76417352-296e-449c-8a74-184ca586e066",
   "metadata": {},
   "outputs": [],
   "source": [
    "# from sklearn.isotonic import IsotonicRegression\n",
    "\n",
    "# # Manual Stacking w/o KFold\n",
    "\n",
    "# def calibrate_predictions(y_true, y_pred, y_test_pred):\n",
    "#     calibrator = IsotonicRegression(out_of_bounds='clip', y_min=0, y_max=1)\n",
    "#     calibrator.fit(y_pred, y_true)\n",
    "#     calibrated_pred = calibrator.predict(y_test_pred)\n",
    "#     return np.clip(calibrated_pred, 0, 1)\n",
    "\n",
    "# # Calibrate validation predictions\n",
    "# xgb_val_calibrated = calibrate_predictions(y_val, xgb_val_pred, xgb_val_pred)\n",
    "# lgb_val_calibrated = calibrate_predictions(y_val, lgb_val_pred, lgb_val_pred)\n",
    "# gbr_val_calibrated = calibrate_predictions(y_val, gbr_val_pred, gbr_val_pred)\n",
    "\n",
    "# meta_x = np.column_stack([xgb_val_calibrated,lgb_val_calibrated,gbr_val_calibrated])\n",
    "# meta_y = Y_train_val\n",
    "\n",
    "# meta_model = Ridge()\n",
    "# meta_model.fit(meta_x,meta_y)\n",
    "\n",
    "# xgb_test_pred = xgb.predict(X_test_final)\n",
    "# lgb_test_pred = lgb.predict(X_test_final)\n",
    "# cat_test_pred = cat.predict(X_test_final)\n",
    "\n",
    "# xgb_test_calibrated = calibrate_predictions(y_val, xgb_val_pred, y_pred_test_xgb)\n",
    "# lgb_test_calibrated = calibrate_predictions(y_val, lgb_val_pred, y_pred_test_lgb)\n",
    "# gbr_test_calibrated = calibrate_predictions(y_val, gbr_val_pred, y_pred_test_gbr)\n",
    "\n",
    "# meta_test_X = np.column_stack([xgb_test_calibrated, lgb_test_calibrated, cat_test_calibrated])\n",
    "# final_pred = meta_model.predict(meta_test_X)"
   ]
  },
  {
   "cell_type": "code",
   "execution_count": 190,
   "id": "800280d5-58a1-40ba-94ee-2df9a7b9e890",
   "metadata": {},
   "outputs": [
    {
     "name": "stdout",
     "output_type": "stream",
     "text": [
      "[LightGBM] [Info] Auto-choosing row-wise multi-threading, the overhead of testing was 0.009390 seconds.\n",
      "You can set `force_row_wise=true` to remove the overhead.\n",
      "And if memory is not enough, you can set `force_col_wise=true`.\n",
      "[LightGBM] [Info] Total Bins 186\n",
      "[LightGBM] [Info] Number of data points in the train set: 414203, number of used features: 24\n",
      "[LightGBM] [Info] Start training from score 0.352605\n",
      "[LightGBM] [Info] Auto-choosing row-wise multi-threading, the overhead of testing was 0.011618 seconds.\n",
      "You can set `force_row_wise=true` to remove the overhead.\n",
      "And if memory is not enough, you can set `force_col_wise=true`.\n",
      "[LightGBM] [Info] Total Bins 186\n",
      "[LightGBM] [Info] Number of data points in the train set: 414203, number of used features: 24\n",
      "[LightGBM] [Info] Start training from score 0.352104\n",
      "[LightGBM] [Info] Auto-choosing row-wise multi-threading, the overhead of testing was 0.007208 seconds.\n",
      "You can set `force_row_wise=true` to remove the overhead.\n",
      "And if memory is not enough, you can set `force_col_wise=true`.\n",
      "[LightGBM] [Info] Total Bins 192\n",
      "[LightGBM] [Info] Number of data points in the train set: 414203, number of used features: 24\n",
      "[LightGBM] [Info] Start training from score 0.352272\n",
      "[LightGBM] [Info] Auto-choosing row-wise multi-threading, the overhead of testing was 0.007323 seconds.\n",
      "You can set `force_row_wise=true` to remove the overhead.\n",
      "And if memory is not enough, you can set `force_col_wise=true`.\n",
      "[LightGBM] [Info] Total Bins 194\n",
      "[LightGBM] [Info] Number of data points in the train set: 414203, number of used features: 24\n",
      "[LightGBM] [Info] Start training from score 0.352472\n",
      "[LightGBM] [Info] Auto-choosing row-wise multi-threading, the overhead of testing was 0.007314 seconds.\n",
      "You can set `force_row_wise=true` to remove the overhead.\n",
      "And if memory is not enough, you can set `force_col_wise=true`.\n",
      "[LightGBM] [Info] Total Bins 189\n",
      "[LightGBM] [Info] Number of data points in the train set: 414204, number of used features: 24\n",
      "[LightGBM] [Info] Start training from score 0.352433\n"
     ]
    }
   ],
   "source": [
    "kf = KFold(n_splits=5, shuffle=True, random_state=42)\n",
    "\n",
    "xgb_oof = np.zeros(len(X_train_full))\n",
    "lgb_oof = np.zeros(len(X_train_full))\n",
    "gbr_oof = np.zeros(len(X_train_full))\n",
    "\n",
    "xgb_test_preds = np.zeros((len(X_test_final), 5))\n",
    "lgb_test_preds = np.zeros((len(X_test_final), 5))\n",
    "gbr_test_preds = np.zeros((len(X_test_final), 5))\n",
    "\n",
    "for i, (train_idx, val_idx) in enumerate(kf.split(X_train_full)):\n",
    "    X_tr, X_val = X_train_full[train_idx], X_train_full[val_idx]\n",
    "    y_tr, y_val = Y_train[train_idx], Y_train[val_idx]\n",
    "    \n",
    "    # Train models on each fold\n",
    "    xgb.fit(X_tr, y_tr)\n",
    "    lgb.fit(X_tr, y_tr)\n",
    "    gbr.fit(X_tr, y_tr)\n",
    "    \n",
    "    # Out-of-fold predictions (on unseen data)\n",
    "    xgb_oof[val_idx] = xgb.predict(X_val)\n",
    "    lgb_oof[val_idx] = lgb.predict(X_val)\n",
    "    gbr_oof[val_idx] = gbr.predict(X_val)\n",
    "    \n",
    "    # Predict on test set\n",
    "    xgb_test_preds[:, i] = xgb.predict(X_test_final)\n",
    "    lgb_test_preds[:, i] = lgb.predict(X_test_final)\n",
    "    gbr_test_preds[:, i] = gbr.predict(X_test_final)\n",
    "\n",
    "# Average test predictions across folds\n",
    "xgb_test_final = xgb_test_preds.mean(axis=1)\n",
    "lgb_test_final = lgb_test_preds.mean(axis=1)\n",
    "gbr_test_final = gbr_test_preds.mean(axis=1)\n"
   ]
  },
  {
   "cell_type": "code",
   "execution_count": 211,
   "id": "9c7c8b4e-d4ed-4dce-b13d-25a1024d940b",
   "metadata": {},
   "outputs": [
    {
     "data": {
      "text/plain": [
       "array([0.29013889, 0.12390666, 0.18775118, ..., 0.25194352, 0.12802657,\n",
       "       0.4904138 ])"
      ]
     },
     "execution_count": 211,
     "metadata": {},
     "output_type": "execute_result"
    }
   ],
   "source": [
    "from sklearn.linear_model import Ridge\n",
    "meta_X = np.column_stack([xgb_oof, lgb_oof, gbr_oof])\n",
    "meta_model = Ridge()\n",
    "meta_model.fit(meta_X, Y_train)\n",
    "\n",
    "meta_X_pred = meta_model.predict(meta_X[val_idx])\n",
    "rmse_stacked = np.sqrt(mean_squared_error(meta_X_pred, y_val))\n",
    "\n",
    "meta_test_X = np.column_stack([xgb_test_final, lgb_test_final, gbr_test_final])\n",
    "final_pred = meta_model.predict(meta_test_X)\n",
    "final_pred"
   ]
  },
  {
   "cell_type": "code",
   "execution_count": 213,
   "id": "6c9af565-a51e-43e9-b115-736c439c8535",
   "metadata": {},
   "outputs": [
    {
     "data": {
      "text/plain": [
       "0.05594096090178955"
      ]
     },
     "execution_count": 213,
     "metadata": {},
     "output_type": "execute_result"
    }
   ],
   "source": [
    "rmse_stacked"
   ]
  },
  {
   "cell_type": "code",
   "execution_count": 221,
   "id": "5fd5a343-d019-4ee5-91e1-433e76df7b76",
   "metadata": {},
   "outputs": [
    {
     "data": {
      "text/html": [
       "<div>\n",
       "<style scoped>\n",
       "    .dataframe tbody tr th:only-of-type {\n",
       "        vertical-align: middle;\n",
       "    }\n",
       "\n",
       "    .dataframe tbody tr th {\n",
       "        vertical-align: top;\n",
       "    }\n",
       "\n",
       "    .dataframe thead th {\n",
       "        text-align: right;\n",
       "    }\n",
       "</style>\n",
       "<table border=\"1\" class=\"dataframe\">\n",
       "  <thead>\n",
       "    <tr style=\"text-align: right;\">\n",
       "      <th></th>\n",
       "      <th>id</th>\n",
       "      <th>accident_risk</th>\n",
       "    </tr>\n",
       "  </thead>\n",
       "  <tbody>\n",
       "    <tr>\n",
       "      <th>0</th>\n",
       "      <td>517754</td>\n",
       "      <td>0.290139</td>\n",
       "    </tr>\n",
       "    <tr>\n",
       "      <th>1</th>\n",
       "      <td>517755</td>\n",
       "      <td>0.123907</td>\n",
       "    </tr>\n",
       "    <tr>\n",
       "      <th>2</th>\n",
       "      <td>517756</td>\n",
       "      <td>0.187751</td>\n",
       "    </tr>\n",
       "    <tr>\n",
       "      <th>3</th>\n",
       "      <td>517757</td>\n",
       "      <td>0.316839</td>\n",
       "    </tr>\n",
       "    <tr>\n",
       "      <th>4</th>\n",
       "      <td>517758</td>\n",
       "      <td>0.401094</td>\n",
       "    </tr>\n",
       "    <tr>\n",
       "      <th>...</th>\n",
       "      <td>...</td>\n",
       "      <td>...</td>\n",
       "    </tr>\n",
       "    <tr>\n",
       "      <th>172580</th>\n",
       "      <td>690334</td>\n",
       "      <td>0.108480</td>\n",
       "    </tr>\n",
       "    <tr>\n",
       "      <th>172581</th>\n",
       "      <td>690335</td>\n",
       "      <td>0.516009</td>\n",
       "    </tr>\n",
       "    <tr>\n",
       "      <th>172582</th>\n",
       "      <td>690336</td>\n",
       "      <td>0.251944</td>\n",
       "    </tr>\n",
       "    <tr>\n",
       "      <th>172583</th>\n",
       "      <td>690337</td>\n",
       "      <td>0.128027</td>\n",
       "    </tr>\n",
       "    <tr>\n",
       "      <th>172584</th>\n",
       "      <td>690338</td>\n",
       "      <td>0.490414</td>\n",
       "    </tr>\n",
       "  </tbody>\n",
       "</table>\n",
       "<p>172585 rows × 2 columns</p>\n",
       "</div>"
      ],
      "text/plain": [
       "            id  accident_risk\n",
       "0       517754       0.290139\n",
       "1       517755       0.123907\n",
       "2       517756       0.187751\n",
       "3       517757       0.316839\n",
       "4       517758       0.401094\n",
       "...        ...            ...\n",
       "172580  690334       0.108480\n",
       "172581  690335       0.516009\n",
       "172582  690336       0.251944\n",
       "172583  690337       0.128027\n",
       "172584  690338       0.490414\n",
       "\n",
       "[172585 rows x 2 columns]"
      ]
     },
     "execution_count": 221,
     "metadata": {},
     "output_type": "execute_result"
    }
   ],
   "source": [
    "submission = pd.DataFrame({\n",
    "    'id': X_test['id'],        # IDs from test set\n",
    "    'accident_risk': final_pred  # Your predicted values\n",
    "})\n",
    "\n",
    "submission"
   ]
  },
  {
   "cell_type": "code",
   "execution_count": null,
   "id": "42c5b787-0776-42ca-8df3-4ccb57de2ea3",
   "metadata": {},
   "outputs": [],
   "source": [
    "# easy+fast\n",
    "\n",
    "# from sklearn.ensemble import StackingRegressor\n",
    "# from sklearn.linear_model import Ridge\n",
    "\n",
    "# base_models = [\n",
    "#     ('gbr', GradientBoostingRegressor()),\n",
    "#     ('xgb', XGBRegressor()),\n",
    "#     ('lgb', LGBMRegressor())\n",
    "# ]\n",
    "\n",
    "# meta_model = Ridge()  # The model that learns how to combine base models\n",
    "\n",
    "# stack = StackingRegressor(estimators=base_models, final_estimator=meta_model)\n",
    "# stack.fit(X_train, y_train)\n"
   ]
  },
  {
   "cell_type": "code",
   "execution_count": null,
   "id": "308ca972-8115-47f0-9ac7-e8b063a01ba3",
   "metadata": {},
   "outputs": [],
   "source": []
  },
  {
   "cell_type": "code",
   "execution_count": 170,
   "id": "ba89ebc0-3fec-4389-a92e-1467ae298bca",
   "metadata": {},
   "outputs": [],
   "source": [
    "########## \n",
    "#### Random Forest w/o k-fold : Root Mean Squared Error: 0.056309668722782966  R² Score: 0.8851674459011593\n",
    "#### Random Forest w/ k-fold  : Average RMSE across folds: 0.05618058\n",
    "\n",
    "#### Gradient Boosting w/o k-fold : Root Mean Squared Error: 0.05640946985821051  R² Score: 0.8847600353959664\n",
    "#### Gradient Boosting w/ k-fold : Average RMSE across folds: 0.05628366\n",
    "\n",
    "#### XGBoosting w/o k-fold : Root Mean Squared Error: 0.05702068250426873  R² Score: 0.8822491902634115\n",
    "#### XGBoosting w/ k-fold : Average RMSE across folds: 0.05687002\n",
    "\n",
    "########## Random Forest w/ k-fold is the best"
   ]
  },
  {
   "cell_type": "code",
   "execution_count": 172,
   "id": "208c1f56-cec6-4bb4-827f-6f2cd36274aa",
   "metadata": {},
   "outputs": [],
   "source": [
    "########## ANSWER ##########"
   ]
  },
  {
   "cell_type": "code",
   "execution_count": null,
   "id": "5f4d093f-60b6-4e03-95e1-e9a9450acba3",
   "metadata": {},
   "outputs": [],
   "source": []
  }
 ],
 "metadata": {
  "kernelspec": {
   "display_name": "Python 3 (ipykernel)",
   "language": "python",
   "name": "python3"
  },
  "language_info": {
   "codemirror_mode": {
    "name": "ipython",
    "version": 3
   },
   "file_extension": ".py",
   "mimetype": "text/x-python",
   "name": "python",
   "nbconvert_exporter": "python",
   "pygments_lexer": "ipython3",
   "version": "3.11.5"
  }
 },
 "nbformat": 4,
 "nbformat_minor": 5
}
